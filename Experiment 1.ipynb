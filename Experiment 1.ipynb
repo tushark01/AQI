{
 "cells": [
  {
   "cell_type": "code",
   "execution_count": 1,
   "id": "025b3b6c",
   "metadata": {},
   "outputs": [
    {
     "name": "stdout",
     "output_type": "stream",
     "text": [
      "   S.No  Ozone  Sloar R  Wind  Temp  Month  Day\n",
      "0     1     41      190   7.4    67      5    1\n",
      "1     2     36      118   8.0    72      5    2\n",
      "2     3     12      149  12.6    74      5    3\n",
      "3     4     18      313  11.5    62      5    4\n",
      "4     5     27      192  14.3    56      5    5\n",
      "5     6     28      193  14.9    66      5    6\n",
      "6     7     23      299   8.6    65      5    7\n",
      "7     8     19       99  13.8    59      5    8\n",
      "8     9      8       19  20.0    61      5    9\n",
      "9    10     24      194  18.6    69      5   10\n"
     ]
    }
   ],
   "source": [
    "import pandas as pd\n",
    "\n",
    "AirQuality = {'S.No': [1,2,3,4,5,6,7,8,9,10],\n",
    "               'Ozone': [41,36,12,18,27,28,23,19,8,24],\n",
    "               'Sloar R':[190,118,149,313,192,193,299,99,19,194],\n",
    "               'Wind':[7.4,8,12.6,11.5,14.3,14.9,8.6,13.8,20,18.6],\n",
    "               'Temp':[67,72,74,62,56,66,65,59,61,69],\n",
    "               'Month':[5,5,5,5,5,5,5,5,5,5],\n",
    "               'Day':[1,2,3,4,5,6,7,8,9,10]\n",
    "        }\n",
    "\n",
    "df = pd.DataFrame(AirQuality, columns = ['S.No', 'Ozone','Sloar R','Wind','Temp','Month','Day'])\n",
    "\n",
    "print (df)"
   ]
  },
  {
   "cell_type": "code",
   "execution_count": 2,
   "id": "c96f9ac6",
   "metadata": {},
   "outputs": [
    {
     "data": {
      "text/html": [
       "<div>\n",
       "<style scoped>\n",
       "    .dataframe tbody tr th:only-of-type {\n",
       "        vertical-align: middle;\n",
       "    }\n",
       "\n",
       "    .dataframe tbody tr th {\n",
       "        vertical-align: top;\n",
       "    }\n",
       "\n",
       "    .dataframe thead th {\n",
       "        text-align: right;\n",
       "    }\n",
       "</style>\n",
       "<table border=\"1\" class=\"dataframe\">\n",
       "  <thead>\n",
       "    <tr style=\"text-align: right;\">\n",
       "      <th></th>\n",
       "      <th>S.No</th>\n",
       "      <th>Ozone</th>\n",
       "      <th>Sloar R</th>\n",
       "      <th>Wind</th>\n",
       "      <th>Temp</th>\n",
       "      <th>Month</th>\n",
       "      <th>Day</th>\n",
       "    </tr>\n",
       "  </thead>\n",
       "  <tbody>\n",
       "    <tr>\n",
       "      <th>count</th>\n",
       "      <td>10.00000</td>\n",
       "      <td>10.000000</td>\n",
       "      <td>10.000000</td>\n",
       "      <td>10.000000</td>\n",
       "      <td>10.000000</td>\n",
       "      <td>10.0</td>\n",
       "      <td>10.00000</td>\n",
       "    </tr>\n",
       "    <tr>\n",
       "      <th>mean</th>\n",
       "      <td>5.50000</td>\n",
       "      <td>23.600000</td>\n",
       "      <td>176.600000</td>\n",
       "      <td>12.970000</td>\n",
       "      <td>65.100000</td>\n",
       "      <td>5.0</td>\n",
       "      <td>5.50000</td>\n",
       "    </tr>\n",
       "    <tr>\n",
       "      <th>std</th>\n",
       "      <td>3.02765</td>\n",
       "      <td>10.101705</td>\n",
       "      <td>87.958576</td>\n",
       "      <td>4.274225</td>\n",
       "      <td>5.704774</td>\n",
       "      <td>0.0</td>\n",
       "      <td>3.02765</td>\n",
       "    </tr>\n",
       "    <tr>\n",
       "      <th>min</th>\n",
       "      <td>1.00000</td>\n",
       "      <td>8.000000</td>\n",
       "      <td>19.000000</td>\n",
       "      <td>7.400000</td>\n",
       "      <td>56.000000</td>\n",
       "      <td>5.0</td>\n",
       "      <td>1.00000</td>\n",
       "    </tr>\n",
       "    <tr>\n",
       "      <th>25%</th>\n",
       "      <td>3.25000</td>\n",
       "      <td>18.250000</td>\n",
       "      <td>125.750000</td>\n",
       "      <td>9.325000</td>\n",
       "      <td>61.250000</td>\n",
       "      <td>5.0</td>\n",
       "      <td>3.25000</td>\n",
       "    </tr>\n",
       "    <tr>\n",
       "      <th>50%</th>\n",
       "      <td>5.50000</td>\n",
       "      <td>23.500000</td>\n",
       "      <td>191.000000</td>\n",
       "      <td>13.200000</td>\n",
       "      <td>65.500000</td>\n",
       "      <td>5.0</td>\n",
       "      <td>5.50000</td>\n",
       "    </tr>\n",
       "    <tr>\n",
       "      <th>75%</th>\n",
       "      <td>7.75000</td>\n",
       "      <td>27.750000</td>\n",
       "      <td>193.750000</td>\n",
       "      <td>14.750000</td>\n",
       "      <td>68.500000</td>\n",
       "      <td>5.0</td>\n",
       "      <td>7.75000</td>\n",
       "    </tr>\n",
       "    <tr>\n",
       "      <th>max</th>\n",
       "      <td>10.00000</td>\n",
       "      <td>41.000000</td>\n",
       "      <td>313.000000</td>\n",
       "      <td>20.000000</td>\n",
       "      <td>74.000000</td>\n",
       "      <td>5.0</td>\n",
       "      <td>10.00000</td>\n",
       "    </tr>\n",
       "  </tbody>\n",
       "</table>\n",
       "</div>"
      ],
      "text/plain": [
       "           S.No      Ozone     Sloar R       Wind       Temp  Month       Day\n",
       "count  10.00000  10.000000   10.000000  10.000000  10.000000   10.0  10.00000\n",
       "mean    5.50000  23.600000  176.600000  12.970000  65.100000    5.0   5.50000\n",
       "std     3.02765  10.101705   87.958576   4.274225   5.704774    0.0   3.02765\n",
       "min     1.00000   8.000000   19.000000   7.400000  56.000000    5.0   1.00000\n",
       "25%     3.25000  18.250000  125.750000   9.325000  61.250000    5.0   3.25000\n",
       "50%     5.50000  23.500000  191.000000  13.200000  65.500000    5.0   5.50000\n",
       "75%     7.75000  27.750000  193.750000  14.750000  68.500000    5.0   7.75000\n",
       "max    10.00000  41.000000  313.000000  20.000000  74.000000    5.0  10.00000"
      ]
     },
     "execution_count": 2,
     "metadata": {},
     "output_type": "execute_result"
    }
   ],
   "source": [
    "df.describe()"
   ]
  },
  {
   "cell_type": "code",
   "execution_count": 3,
   "id": "9e7f0de6",
   "metadata": {},
   "outputs": [
    {
     "data": {
      "text/html": [
       "<div>\n",
       "<style scoped>\n",
       "    .dataframe tbody tr th:only-of-type {\n",
       "        vertical-align: middle;\n",
       "    }\n",
       "\n",
       "    .dataframe tbody tr th {\n",
       "        vertical-align: top;\n",
       "    }\n",
       "\n",
       "    .dataframe thead th {\n",
       "        text-align: right;\n",
       "    }\n",
       "</style>\n",
       "<table border=\"1\" class=\"dataframe\">\n",
       "  <thead>\n",
       "    <tr style=\"text-align: right;\">\n",
       "      <th></th>\n",
       "      <th>S.No</th>\n",
       "      <th>Ozone</th>\n",
       "      <th>Sloar R</th>\n",
       "      <th>Wind</th>\n",
       "      <th>Temp</th>\n",
       "      <th>Month</th>\n",
       "      <th>Day</th>\n",
       "    </tr>\n",
       "  </thead>\n",
       "  <tbody>\n",
       "    <tr>\n",
       "      <th>0</th>\n",
       "      <td>1</td>\n",
       "      <td>41</td>\n",
       "      <td>190</td>\n",
       "      <td>7.4</td>\n",
       "      <td>67</td>\n",
       "      <td>5</td>\n",
       "      <td>1</td>\n",
       "    </tr>\n",
       "    <tr>\n",
       "      <th>1</th>\n",
       "      <td>2</td>\n",
       "      <td>36</td>\n",
       "      <td>118</td>\n",
       "      <td>8.0</td>\n",
       "      <td>72</td>\n",
       "      <td>5</td>\n",
       "      <td>2</td>\n",
       "    </tr>\n",
       "    <tr>\n",
       "      <th>2</th>\n",
       "      <td>3</td>\n",
       "      <td>12</td>\n",
       "      <td>149</td>\n",
       "      <td>12.6</td>\n",
       "      <td>74</td>\n",
       "      <td>5</td>\n",
       "      <td>3</td>\n",
       "    </tr>\n",
       "    <tr>\n",
       "      <th>3</th>\n",
       "      <td>4</td>\n",
       "      <td>18</td>\n",
       "      <td>313</td>\n",
       "      <td>11.5</td>\n",
       "      <td>62</td>\n",
       "      <td>5</td>\n",
       "      <td>4</td>\n",
       "    </tr>\n",
       "    <tr>\n",
       "      <th>4</th>\n",
       "      <td>5</td>\n",
       "      <td>27</td>\n",
       "      <td>192</td>\n",
       "      <td>14.3</td>\n",
       "      <td>56</td>\n",
       "      <td>5</td>\n",
       "      <td>5</td>\n",
       "    </tr>\n",
       "  </tbody>\n",
       "</table>\n",
       "</div>"
      ],
      "text/plain": [
       "   S.No  Ozone  Sloar R  Wind  Temp  Month  Day\n",
       "0     1     41      190   7.4    67      5    1\n",
       "1     2     36      118   8.0    72      5    2\n",
       "2     3     12      149  12.6    74      5    3\n",
       "3     4     18      313  11.5    62      5    4\n",
       "4     5     27      192  14.3    56      5    5"
      ]
     },
     "execution_count": 3,
     "metadata": {},
     "output_type": "execute_result"
    }
   ],
   "source": [
    "df.head()"
   ]
  },
  {
   "cell_type": "code",
   "execution_count": 6,
   "id": "27144a17",
   "metadata": {},
   "outputs": [
    {
     "name": "stdout",
     "output_type": "stream",
     "text": [
      "<class 'pandas.core.frame.DataFrame'>\n",
      "RangeIndex: 10 entries, 0 to 9\n",
      "Data columns (total 7 columns):\n",
      " #   Column   Non-Null Count  Dtype  \n",
      "---  ------   --------------  -----  \n",
      " 0   S.No     10 non-null     int64  \n",
      " 1   Ozone    10 non-null     int64  \n",
      " 2   Sloar R  10 non-null     int64  \n",
      " 3   Wind     10 non-null     float64\n",
      " 4   Temp     10 non-null     int64  \n",
      " 5   Month    10 non-null     int64  \n",
      " 6   Day      10 non-null     int64  \n",
      "dtypes: float64(1), int64(6)\n",
      "memory usage: 688.0 bytes\n"
     ]
    }
   ],
   "source": [
    "# Summarize the table in python\n",
    "df.info()"
   ]
  },
  {
   "cell_type": "code",
   "execution_count": 7,
   "id": "0484759f",
   "metadata": {},
   "outputs": [
    {
     "data": {
      "text/html": [
       "<div>\n",
       "<style scoped>\n",
       "    .dataframe tbody tr th:only-of-type {\n",
       "        vertical-align: middle;\n",
       "    }\n",
       "\n",
       "    .dataframe tbody tr th {\n",
       "        vertical-align: top;\n",
       "    }\n",
       "\n",
       "    .dataframe thead th {\n",
       "        text-align: right;\n",
       "    }\n",
       "</style>\n",
       "<table border=\"1\" class=\"dataframe\">\n",
       "  <thead>\n",
       "    <tr style=\"text-align: right;\">\n",
       "      <th></th>\n",
       "      <th>S.No</th>\n",
       "      <th>Ozone</th>\n",
       "      <th>Sloar R</th>\n",
       "      <th>Wind</th>\n",
       "      <th>Temp</th>\n",
       "      <th>Month</th>\n",
       "      <th>Day</th>\n",
       "    </tr>\n",
       "  </thead>\n",
       "  <tbody>\n",
       "    <tr>\n",
       "      <th>count</th>\n",
       "      <td>10.00000</td>\n",
       "      <td>10.000000</td>\n",
       "      <td>10.000000</td>\n",
       "      <td>10.000000</td>\n",
       "      <td>10.000000</td>\n",
       "      <td>10.0</td>\n",
       "      <td>10.00000</td>\n",
       "    </tr>\n",
       "    <tr>\n",
       "      <th>mean</th>\n",
       "      <td>5.50000</td>\n",
       "      <td>23.600000</td>\n",
       "      <td>176.600000</td>\n",
       "      <td>12.970000</td>\n",
       "      <td>65.100000</td>\n",
       "      <td>5.0</td>\n",
       "      <td>5.50000</td>\n",
       "    </tr>\n",
       "    <tr>\n",
       "      <th>std</th>\n",
       "      <td>3.02765</td>\n",
       "      <td>10.101705</td>\n",
       "      <td>87.958576</td>\n",
       "      <td>4.274225</td>\n",
       "      <td>5.704774</td>\n",
       "      <td>0.0</td>\n",
       "      <td>3.02765</td>\n",
       "    </tr>\n",
       "    <tr>\n",
       "      <th>min</th>\n",
       "      <td>1.00000</td>\n",
       "      <td>8.000000</td>\n",
       "      <td>19.000000</td>\n",
       "      <td>7.400000</td>\n",
       "      <td>56.000000</td>\n",
       "      <td>5.0</td>\n",
       "      <td>1.00000</td>\n",
       "    </tr>\n",
       "    <tr>\n",
       "      <th>25%</th>\n",
       "      <td>3.25000</td>\n",
       "      <td>18.250000</td>\n",
       "      <td>125.750000</td>\n",
       "      <td>9.325000</td>\n",
       "      <td>61.250000</td>\n",
       "      <td>5.0</td>\n",
       "      <td>3.25000</td>\n",
       "    </tr>\n",
       "    <tr>\n",
       "      <th>50%</th>\n",
       "      <td>5.50000</td>\n",
       "      <td>23.500000</td>\n",
       "      <td>191.000000</td>\n",
       "      <td>13.200000</td>\n",
       "      <td>65.500000</td>\n",
       "      <td>5.0</td>\n",
       "      <td>5.50000</td>\n",
       "    </tr>\n",
       "    <tr>\n",
       "      <th>75%</th>\n",
       "      <td>7.75000</td>\n",
       "      <td>27.750000</td>\n",
       "      <td>193.750000</td>\n",
       "      <td>14.750000</td>\n",
       "      <td>68.500000</td>\n",
       "      <td>5.0</td>\n",
       "      <td>7.75000</td>\n",
       "    </tr>\n",
       "    <tr>\n",
       "      <th>max</th>\n",
       "      <td>10.00000</td>\n",
       "      <td>41.000000</td>\n",
       "      <td>313.000000</td>\n",
       "      <td>20.000000</td>\n",
       "      <td>74.000000</td>\n",
       "      <td>5.0</td>\n",
       "      <td>10.00000</td>\n",
       "    </tr>\n",
       "  </tbody>\n",
       "</table>\n",
       "</div>"
      ],
      "text/plain": [
       "           S.No      Ozone     Sloar R       Wind       Temp  Month       Day\n",
       "count  10.00000  10.000000   10.000000  10.000000  10.000000   10.0  10.00000\n",
       "mean    5.50000  23.600000  176.600000  12.970000  65.100000    5.0   5.50000\n",
       "std     3.02765  10.101705   87.958576   4.274225   5.704774    0.0   3.02765\n",
       "min     1.00000   8.000000   19.000000   7.400000  56.000000    5.0   1.00000\n",
       "25%     3.25000  18.250000  125.750000   9.325000  61.250000    5.0   3.25000\n",
       "50%     5.50000  23.500000  191.000000  13.200000  65.500000    5.0   5.50000\n",
       "75%     7.75000  27.750000  193.750000  14.750000  68.500000    5.0   7.75000\n",
       "max    10.00000  41.000000  313.000000  20.000000  74.000000    5.0  10.00000"
      ]
     },
     "execution_count": 7,
     "metadata": {},
     "output_type": "execute_result"
    }
   ],
   "source": [
    "df.describe()"
   ]
  },
  {
   "cell_type": "code",
   "execution_count": 8,
   "id": "fe499652",
   "metadata": {},
   "outputs": [
    {
     "data": {
      "text/plain": [
       "S.No  Ozone  Sloar R  Wind  Temp  Month  Day\n",
       "1     41     190      7.4   67    5      1      1\n",
       "2     36     118      8.0   72    5      2      1\n",
       "3     12     149      12.6  74    5      3      1\n",
       "4     18     313      11.5  62    5      4      1\n",
       "5     27     192      14.3  56    5      5      1\n",
       "6     28     193      14.9  66    5      6      1\n",
       "7     23     299      8.6   65    5      7      1\n",
       "8     19     99       13.8  59    5      8      1\n",
       "9     8      19       20.0  61    5      9      1\n",
       "10    24     194      18.6  69    5      10     1\n",
       "dtype: int64"
      ]
     },
     "execution_count": 8,
     "metadata": {},
     "output_type": "execute_result"
    }
   ],
   "source": [
    "df.value_counts()"
   ]
  },
  {
   "cell_type": "code",
   "execution_count": 9,
   "id": "7a81203b",
   "metadata": {},
   "outputs": [
    {
     "data": {
      "text/plain": [
       "S.No       10\n",
       "Ozone      10\n",
       "Sloar R    10\n",
       "Wind       10\n",
       "Temp       10\n",
       "Month       1\n",
       "Day        10\n",
       "dtype: int64"
      ]
     },
     "execution_count": 9,
     "metadata": {},
     "output_type": "execute_result"
    }
   ],
   "source": [
    "df.nunique()"
   ]
  },
  {
   "cell_type": "code",
   "execution_count": 10,
   "id": "5ba7fa6d",
   "metadata": {},
   "outputs": [
    {
     "data": {
      "text/plain": [
       "S.No         5.5\n",
       "Ozone       23.5\n",
       "Sloar R    191.0\n",
       "Wind        13.2\n",
       "Temp        65.5\n",
       "Month        5.0\n",
       "Day          5.5\n",
       "dtype: float64"
      ]
     },
     "execution_count": 10,
     "metadata": {},
     "output_type": "execute_result"
    }
   ],
   "source": [
    "df.max()\n",
    "df.min()\n",
    "df.mean()\n",
    "df.median()"
   ]
  },
  {
   "cell_type": "code",
   "execution_count": 11,
   "id": "7247b4bf",
   "metadata": {},
   "outputs": [],
   "source": [
    "from sklearn.linear_model import LinearRegression"
   ]
  },
  {
   "cell_type": "code",
   "execution_count": null,
   "id": "dbac161c",
   "metadata": {},
   "outputs": [],
   "source": []
  },
  {
   "cell_type": "code",
   "execution_count": null,
   "id": "ae330f2a",
   "metadata": {},
   "outputs": [],
   "source": []
  },
  {
   "cell_type": "code",
   "execution_count": 12,
   "id": "ea7d454a",
   "metadata": {},
   "outputs": [
    {
     "data": {
      "text/plain": [
       "LinearRegression()"
      ]
     },
     "execution_count": 12,
     "metadata": {},
     "output_type": "execute_result"
    }
   ],
   "source": [
    "model=LinearRegression()\n",
    "#model.fit(X,y)\n",
    "#r_sq = model.score(X,y)\n",
    "#print('coefficient of determination:', r_sq)\n",
    "model = LinearRegression()\n",
    "df=df.drop('S.No',axis='columns')\n",
    "model.fit(df.drop('Ozone',axis='columns'),df.Ozone)"
   ]
  },
  {
   "cell_type": "markdown",
   "id": "9cd32388",
   "metadata": {},
   "source": [
    "r_sq = model.score(x, y)"
   ]
  },
  {
   "cell_type": "code",
   "execution_count": 22,
   "id": "2c7911f6",
   "metadata": {},
   "outputs": [
    {
     "name": "stdout",
     "output_type": "stream",
     "text": [
      "Coffecient of determination: 0.3947436811535445\n",
      "intercept: 44.89457137031341\n",
      "slope: [-0.00292582 -1.25861074 -0.03036036  0.         -0.45040567]\n"
     ]
    }
   ],
   "source": [
    "r_sq = model.score(df.drop('Ozone',axis='columns'),df.Ozone)\n",
    "print('Coffecient of determination:', r_sq)\n",
    "print('intercept:', model.intercept_)\n",
    "print('slope:', model.coef_)\n",
    "\n"
   ]
  },
  {
   "cell_type": "code",
   "execution_count": 16,
   "id": "e4cf0e5c",
   "metadata": {},
   "outputs": [
    {
     "data": {
      "text/plain": [
       "array([28.06943629])"
      ]
     },
     "execution_count": 16,
     "metadata": {},
     "output_type": "execute_result"
    }
   ],
   "source": [
    "model.predict([[299,8.6,65,5,7]])"
   ]
  },
  {
   "cell_type": "code",
   "execution_count": 23,
   "id": "27e09325",
   "metadata": {},
   "outputs": [
    {
     "data": {
      "text/plain": [
       "array([18.16390544])"
      ]
     },
     "execution_count": 23,
     "metadata": {},
     "output_type": "execute_result"
    }
   ],
   "source": [
    "model.predict([[313,11.5,62,5,21]])"
   ]
  },
  {
   "cell_type": "code",
   "execution_count": 20,
   "id": "a948b3a9",
   "metadata": {},
   "outputs": [
    {
     "data": {
      "text/plain": [
       "array([22.3824722])"
      ]
     },
     "execution_count": 20,
     "metadata": {},
     "output_type": "execute_result"
    }
   ],
   "source": [
    "model.predict([[192,14.3,56,5,5]])"
   ]
  },
  {
   "cell_type": "code",
   "execution_count": null,
   "id": "b4af5497",
   "metadata": {},
   "outputs": [],
   "source": []
  }
 ],
 "metadata": {
  "kernelspec": {
   "display_name": "Python 3",
   "language": "python",
   "name": "python3"
  },
  "language_info": {
   "codemirror_mode": {
    "name": "ipython",
    "version": 3
   },
   "file_extension": ".py",
   "mimetype": "text/x-python",
   "name": "python",
   "nbconvert_exporter": "python",
   "pygments_lexer": "ipython3",
   "version": "3.8.8"
  }
 },
 "nbformat": 4,
 "nbformat_minor": 5
}
